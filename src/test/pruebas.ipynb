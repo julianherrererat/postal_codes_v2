{
 "cells": [
  {
   "cell_type": "code",
   "execution_count": 4,
   "metadata": {},
   "outputs": [
    {
     "name": "stdout",
     "output_type": "stream",
     "text": [
      "[(60,)]\n"
     ]
    }
   ],
   "source": [
    "import mysql.connector\n",
    "from sqlalchemy import create_engine\n",
    "\n",
    "config = {\n",
    "        'user': 'root',\n",
    "        'password': 'bia',\n",
    "        'host': '0.0.0.0',\n",
    "        'port': '3306',\n",
    "        'database': 'codigos_postales'\n",
    "    }\n",
    "\n",
    "connection = mysql.connector.connect(**config)\n",
    "cursor = connection.cursor()\n",
    "cursor.execute(f\"SELECT max(id) from maxid ;\")\n",
    "max_id = cursor.fetchall()\n",
    "\n",
    "print(max_id)\n"
   ]
  },
  {
   "cell_type": "code",
   "execution_count": null,
   "metadata": {},
   "outputs": [],
   "source": [
    "INSERT INTO codigos_postales (postcode, quality, eastings, northings, country, nhs_ha, longitude, latitude, european_electoral_region, primary_care_trust, region, lsoa, msoa, incode, outcode, parliamentary_constituency, admin_district, parish, admin_county, date_of_introduction, admin_ward, ced, ccg, nuts, pfa, distance, codes_admin_district, codes_admin_county, codes_admin_ward, codes_parish, codes_parliamentary_constituency, codes_ccg, codes_ccg_id, codes_ced, codes_nuts, codes_lsoa, codes_msoa, codes_lau2, codes_pfa, fk_id) VALUES \n",
    "                             %(postcode)s, %(quality)s, %(eastings)s, %(northings)s, %(country)s, %(nhs_h %(european_electoral_region)s, %(primary_care_trust)s, %(region)s, %(lsoa) %(parliamentary_constituency)s, %(admin_district)s, %(parish)s, %(admin_county)s, %(date_of_introduction)s, %(admin_ward)s, %(ced) %(distance)s, %(codes_admin_district)s, %(codes_admin_county)s, %(codes_admin_ward)s, %(codes_parish)s, %(codes_parliamentary_constituency)s, %(codes_ccg)s, %(codes_ccg_id)s, %(codes_ced)s, %(codes_nuts)s, %(codes_lsoa)s, %(codes_msoa)s, %(codes_lau2)s, %(codes_pfa)s, %(fk_id)s)]"
   ]
  },
  {
   "cell_type": "markdown",
   "metadata": {},
   "source": []
  }
 ],
 "metadata": {
  "kernelspec": {
   "display_name": "evn",
   "language": "python",
   "name": "python3"
  },
  "language_info": {
   "codemirror_mode": {
    "name": "ipython",
    "version": 3
   },
   "file_extension": ".py",
   "mimetype": "text/x-python",
   "name": "python",
   "nbconvert_exporter": "python",
   "pygments_lexer": "ipython3",
   "version": "3.12.0"
  }
 },
 "nbformat": 4,
 "nbformat_minor": 2
}
